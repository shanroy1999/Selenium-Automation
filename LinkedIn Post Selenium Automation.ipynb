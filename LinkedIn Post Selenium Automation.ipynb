{
 "cells": [
  {
   "cell_type": "code",
   "execution_count": 1,
   "metadata": {},
   "outputs": [],
   "source": [
    "from selenium import webdriver\n",
    "import pandas as pd"
   ]
  },
  {
   "cell_type": "code",
   "execution_count": 5,
   "metadata": {},
   "outputs": [],
   "source": [
    "driver = webdriver.Chrome(r\"C:\\Users\\Lenovo\\anaconda3\\chromedriver\")\n",
    "driver.get(\"https://www.linkedin.com/login?\")\n",
    "\n",
    "username = driver.find_element_by_name(\"session_key\")\n",
    "username = driver.find_element_by_id(\"username\")\n",
    "username = driver.find_element_by_xpath(\"//*[@id='username']\")\n",
    "username.send_keys(\"shan.roy1999@gmail.com\")\n",
    "\n",
    "password = driver.find_element_by_name(\"session_password\")\n",
    "password = driver.find_element_by_id(\"password\")\n",
    "password = driver.find_element_by_xpath(\"//*[@id='password']\")\n",
    "password.send_keys(\"theentrepreneur1999\")\n",
    "\n",
    "sign_in_button = driver.find_element_by_xpath(\"//*[@type='submit']\")\n",
    "sign_in_button = driver.find_element_by_class_name(\"btn__primary--large\")\n",
    "sign_in_button.click()\n",
    "\n",
    "message_down = driver.find_element_by_class_name(\"msg-overlay-bubble-header\")\n",
    "message_down.click()\n",
    "\n",
    "work_button = driver.find_element_by_class_name(\"global-nav__icon \")\n",
    "work_button.click()\n",
    "\n",
    "post_button = driver.find_element_by_xpath('//*[@id=\"ember54\"]/div/div[1]/button')\n",
    "post_button.click()\n",
    "\n",
    "post_button_2 = driver.find_element_by_class_name('ql-editor')\n",
    "post_button_2.send_keys(\"\"\"Hi!.This post is written using Selenium Automation.\n",
    "#Selenium #Automation #Python #LinkedInPostAutomation\"\"\")\n",
    "\n",
    "final_post = driver.find_element_by_xpath('//*[@id=\"ember729\"]')\n",
    "final_post.click()"
   ]
  },
  {
   "cell_type": "code",
   "execution_count": 7,
   "metadata": {},
   "outputs": [],
   "source": [
    "# driver.close()\n",
    "# driver.quit()"
   ]
  }
 ],
 "metadata": {
  "kernelspec": {
   "display_name": "Python 3",
   "language": "python",
   "name": "python3"
  },
  "language_info": {
   "codemirror_mode": {
    "name": "ipython",
    "version": 3
   },
   "file_extension": ".py",
   "mimetype": "text/x-python",
   "name": "python",
   "nbconvert_exporter": "python",
   "pygments_lexer": "ipython3",
   "version": "3.7.6"
  }
 },
 "nbformat": 4,
 "nbformat_minor": 4
}
